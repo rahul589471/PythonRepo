{
 "cells": [
  {
   "cell_type": "code",
   "execution_count": null,
   "id": "fcd12ee3",
   "metadata": {},
   "outputs": [],
   "source": [
    "#Write a python program to print Prime number between 100 and 200\n",
    "\n",
    "for i in range(100,200):\n",
    "    for x in range(2,i):\n",
    "        is_Prime=True;\n",
    "        if(i%x)==0:\n",
    "            is_Prime=False;\n",
    "            break;\n",
    "    if is_Prime==True:\n",
    "        print(i);\n"
   ]
  },
  {
   "cell_type": "code",
   "execution_count": null,
   "id": "070f71b3",
   "metadata": {},
   "outputs": [],
   "source": []
  },
  {
   "cell_type": "code",
   "execution_count": null,
   "id": "4a4522e2",
   "metadata": {},
   "outputs": [],
   "source": [
    "# Sort elements in List\n",
    "li =[5,4,3,2,1]\n",
    "\n",
    "li.sort()\n",
    "print(li)\n",
    "\n",
    "li.sort(reverse= True)\n",
    "print(li)\n",
    "\n",
    "print(list((set(li))));\n",
    "\n",
    "l =[6,3,12,1,0]\n",
    "new_l=[]\n",
    "\n",
    "while l:\n",
    "    max=l[0]\n",
    "    for i in l:\n",
    "        if i>max:\n",
    "            max=i\n",
    "    new_l.append(max)\n",
    "    l.remove(max)\n",
    "        \n",
    "print(new_l)"
   ]
  },
  {
   "cell_type": "code",
   "execution_count": null,
   "id": "4bc393ff",
   "metadata": {},
   "outputs": [],
   "source": [
    "#Python Program to print Fibonacci Series\n",
    "\n",
    "a=0\n",
    "b=1\n",
    "\n",
    "print(a,b,\"\")\n",
    "\n",
    "for i in range(10): \n",
    "    print(a+b,end=\"\")\n",
    "    a,b=b,a+b\n",
    "    \n",
    "    \n",
    "##########2nd Method\n",
    "\n",
    "def F(n):\n",
    "    if n==0: return 0\n",
    "    elif n==1: return 1\n",
    "    else: return F(n) +F(n-1)"
   ]
  },
  {
   "cell_type": "markdown",
   "id": "89b402fd",
   "metadata": {},
   "source": [
    "#Print a list in reverse order\n",
    "\n",
    "l =[4,7,12,4,2,3]\n",
    "\n",
    "for i in range(len(l)-1,0,-1):\n",
    "    print(l[i], end= \" \")\n"
   ]
  },
  {
   "cell_type": "code",
   "execution_count": null,
   "id": "0b010b6e",
   "metadata": {},
   "outputs": [],
   "source": [
    "#Print a list in reverse order\n",
    "\n",
    "l =[4,7,12,4,2,3]\n",
    "\n",
    "for i in range(len(l)-1,0,-1):\n",
    "    print(l[i], end= \" \")\n",
    "\n",
    "    \n",
    "print(l[::-1])\n"
   ]
  },
  {
   "cell_type": "code",
   "execution_count": null,
   "id": "2c0b6c90",
   "metadata": {},
   "outputs": [],
   "source": [
    "# String is palindrome or not\n",
    "\n",
    "\n",
    "def fn_Palindrome(str1):\n",
    "    for i in range(len(str1)//2):\n",
    "        if str1[i] !=str1[len(str1)-i-1]:\n",
    "            return False\n",
    "        else:\n",
    "            pass\n",
    "    return True;\n",
    "\n",
    "res= fn_Palindrome('amma');\n",
    "print(res)\n",
    "\n",
    "\n",
    "\n",
    "        \n",
    "        \n",
    "        \n",
    "    "
   ]
  },
  {
   "cell_type": "code",
   "execution_count": null,
   "id": "3245c981",
   "metadata": {},
   "outputs": [],
   "source": [
    "# Print set of duplicates in a list\n",
    "\n",
    "li=[4,4,5,6,7,7,8,8,9,1];\n",
    "dup_list= []\n",
    "\n",
    "li.sort();\n",
    "\n",
    "for i in range(len(li)-1):\n",
    "    if(li[i]==li[i+1]):\n",
    "        dup_list.append(li[i])\n",
    "\n",
    "        \n",
    "print(dup_list)\n",
    "\n",
    "\n",
    "#Best method\n",
    "print(set(x for x in li if li.count(x)>1))\n",
    "    \n",
    "    \n"
   ]
  },
  {
   "cell_type": "code",
   "execution_count": null,
   "id": "a86bcb44",
   "metadata": {},
   "outputs": [],
   "source": [
    "# Arrays in Python\n",
    "from array import *\n",
    "\n",
    "num =array('i',[4,4,4,5,6,7,7,9])\n",
    "print(type(num))\n",
    "print(num)\n"
   ]
  },
  {
   "cell_type": "code",
   "execution_count": 372,
   "id": "301bfabe",
   "metadata": {},
   "outputs": [
    {
     "name": "stdout",
     "output_type": "stream",
     "text": [
      "8\n"
     ]
    }
   ],
   "source": [
    "# Program to print number of words in given sentence\n",
    "\n",
    "sentence =\"rahul mittal qkhadkad dwajkhdkad wadjkhafkahf wakjdfafkhs sjkfhsjfsjksfk sdvmnsvmnkvskfhwjdqhd\"\n",
    "\n",
    "print(len(sentence.split()))"
   ]
  },
  {
   "cell_type": "code",
   "execution_count": null,
   "id": "fb00c767",
   "metadata": {},
   "outputs": [],
   "source": [
    "#Search element in Array\n",
    "l =[1,12,3,4,5]\n",
    "search =11\n",
    " \n",
    "fl=[\"Found\"  for i in l if i==search]\n",
    "print(fl)\n",
    "    "
   ]
  },
  {
   "cell_type": "code",
   "execution_count": null,
   "id": "833ee7f1",
   "metadata": {},
   "outputs": [],
   "source": [
    "lst1=[1,2,3,4,5]\n",
    "lst2=lst1\n",
    "\n",
    "lst3 =lst1.copy();\n",
    "\n",
    "lst2.append(6)\n",
    "\n",
    "lst3.append(9)\n",
    "\n",
    "print('lst1- ',lst1)\n",
    "print('lst2- ',lst2)\n",
    "print('lst3- ',lst3)\n",
    "\n",
    "\n"
   ]
  },
  {
   "cell_type": "code",
   "execution_count": 302,
   "id": "4ee3632b",
   "metadata": {},
   "outputs": [
    {
     "name": "stdout",
     "output_type": "stream",
     "text": [
      "left  0\n",
      "right  10\n",
      "middle  5\n",
      "[0, 4, 5, 5, 6, 7, 8, 9, 11, 78, 89]\n",
      "7\n",
      "Element is at  9 position\n"
     ]
    }
   ],
   "source": [
    "#Binary search Program\n",
    "\n",
    "\n",
    "def binarysearch(arr,res):\n",
    "    \n",
    "        left=0\n",
    "        right =len(arr)-1\n",
    "\n",
    "        middle= (left+right)//2\n",
    "        \n",
    "        print(\"left \" , left)\n",
    "        print(\"right \" , right)\n",
    "        print(\"middle \" , middle)\n",
    "        print(li)\n",
    "        print(arr[middle])\n",
    "        \n",
    "        while(left<right):\n",
    "            middle= (left+right)//2\n",
    "            if(res==arr[middle]):\n",
    "                return middle;\n",
    "            elif (res>arr[middle]):\n",
    "                left =middle+1;\n",
    "            elif (res<arr[middle]):\n",
    "                right=middle-1;\n",
    "        return -999\n",
    "        \n",
    "    \n",
    "                     \n",
    "       \n",
    "li =[5,89,78,6,5,4,7,8,9,0,11]\n",
    "li.sort()\n",
    "res=78\n",
    "\n",
    "fr= binarysearch(li,res)\n",
    "if fr==-999:\n",
    "    print(\"Element not found\")\n",
    "else:\n",
    "    print(\"Element is at \", fr , \"position\")"
   ]
  },
  {
   "cell_type": "code",
   "execution_count": 303,
   "id": "fb5d2939",
   "metadata": {},
   "outputs": [
    {
     "data": {
      "text/html": [
       "<div>\n",
       "<style scoped>\n",
       "    .dataframe tbody tr th:only-of-type {\n",
       "        vertical-align: middle;\n",
       "    }\n",
       "\n",
       "    .dataframe tbody tr th {\n",
       "        vertical-align: top;\n",
       "    }\n",
       "\n",
       "    .dataframe thead th {\n",
       "        text-align: right;\n",
       "    }\n",
       "</style>\n",
       "<table border=\"1\" class=\"dataframe\">\n",
       "  <thead>\n",
       "    <tr style=\"text-align: right;\">\n",
       "      <th></th>\n",
       "      <th>Index</th>\n",
       "      <th>Date</th>\n",
       "      <th>Open</th>\n",
       "      <th>High</th>\n",
       "      <th>Low</th>\n",
       "      <th>Close</th>\n",
       "      <th>Adj Close</th>\n",
       "      <th>Volume</th>\n",
       "      <th>CloseUSD</th>\n",
       "    </tr>\n",
       "  </thead>\n",
       "  <tbody>\n",
       "    <tr>\n",
       "      <th>61410</th>\n",
       "      <td>399001.SZ</td>\n",
       "      <td>28-05-2002</td>\n",
       "      <td>3093.560059</td>\n",
       "      <td>3118.530029</td>\n",
       "      <td>3086.879883</td>\n",
       "      <td>3102.260010</td>\n",
       "      <td>3102.225342</td>\n",
       "      <td>0</td>\n",
       "      <td>496.361602</td>\n",
       "    </tr>\n",
       "    <tr>\n",
       "      <th>86300</th>\n",
       "      <td>GDAXI</td>\n",
       "      <td>06-05-2013</td>\n",
       "      <td>8119.220215</td>\n",
       "      <td>8148.140137</td>\n",
       "      <td>8103.270020</td>\n",
       "      <td>8112.080078</td>\n",
       "      <td>8112.080078</td>\n",
       "      <td>66147800</td>\n",
       "      <td>9896.737695</td>\n",
       "    </tr>\n",
       "  </tbody>\n",
       "</table>\n",
       "</div>"
      ],
      "text/plain": [
       "           Index        Date         Open         High          Low  \\\n",
       "61410  399001.SZ  28-05-2002  3093.560059  3118.530029  3086.879883   \n",
       "86300      GDAXI  06-05-2013  8119.220215  8148.140137  8103.270020   \n",
       "\n",
       "             Close    Adj Close    Volume     CloseUSD  \n",
       "61410  3102.260010  3102.225342         0   496.361602  \n",
       "86300  8112.080078  8112.080078  66147800  9896.737695  "
      ]
     },
     "execution_count": 303,
     "metadata": {},
     "output_type": "execute_result"
    }
   ],
   "source": [
    "#Plot grpah in Python\n",
    "# Matplotlib \n",
    "import pandas as pd\n",
    "\n",
    "\n",
    "df=pd.read_csv(r'C:\\\\Users\\\\Rahul\\\\PycharmProjects\\\\Python\\\\live_data_streaming_project\\\\data_processed.csv')\n",
    "df\n",
    "df.sample(2)\n",
    "\n",
    "\n",
    "\n",
    "\n",
    "\n",
    "\n"
   ]
  },
  {
   "cell_type": "code",
   "execution_count": 314,
   "id": "23ae1a34",
   "metadata": {},
   "outputs": [
    {
     "data": {
      "image/png": "[encoded data removed]",
      "text/plain": [
       "<Figure size 432x288 with 1 Axes>"
      ]
     },
     "metadata": {
      "needs_background": "light"
     },
     "output_type": "display_data"
    }
   ],
   "source": [
    "#Plot grpah in Python\n",
    "# Matplotlib \n",
    "import pandas as pd\n",
    "import matplotlib.pyplot as plt\n",
    "\n",
    "speed = [0.1, 17.5, 40, 48, 52, 69, 88]\n",
    "lifespan = [2, 8, 70, 1.5, 25, 12, 28]\n",
    "index = ['snail', 'pig', 'elephant',\n",
    "         'rabbit', 'giraffe', 'coyote', 'horse']\n",
    "df = pd.DataFrame({'speed': speed,\n",
    "                   'lifespan': lifespan}, index=index)\n",
    "ax=df.plot.bar(rot=0)\n",
    "\n",
    "\n",
    "plt.bar(df['speed'],df['lifespan'])\n",
    "plt.xlabel('rahul')\n",
    "plt.ylabel('mittal')\n",
    "plt.show()\n",
    "\n",
    "\n"
   ]
  },
  {
   "cell_type": "code",
   "execution_count": 327,
   "id": "59b2bbda",
   "metadata": {},
   "outputs": [
    {
     "name": "stdout",
     "output_type": "stream",
     "text": [
      "rahul mittal\n"
     ]
    }
   ],
   "source": [
    "#To join 2 strings\n",
    "\n",
    "str1=\"rahul\"\n",
    "str2=\"mittal\"\n",
    "\n",
    "\n",
    "str3=\" \".join((str1,str2))\n",
    "print(str3)"
   ]
  },
  {
   "cell_type": "code",
   "execution_count": 371,
   "id": "69734b34",
   "metadata": {},
   "outputs": [
    {
     "name": "stdout",
     "output_type": "stream",
     "text": [
      "5671234\n"
     ]
    }
   ],
   "source": [
    "# remove digits from string\n",
    "str1=\"567rahul1234\"\n",
    "\n",
    "a=''.join(filter(lambda a:a.isdigit(),str1))\n",
    "print((a))\n"
   ]
  },
  {
   "cell_type": "code",
   "execution_count": 399,
   "id": "1610bab4",
   "metadata": {},
   "outputs": [
    {
     "data": {
      "text/plain": [
       "['123rrrrhytifkwfkhfhkf\\nabc', 'dfg', '1234\\nqww']"
      ]
     },
     "execution_count": 399,
     "metadata": {},
     "output_type": "execute_result"
    }
   ],
   "source": [
    "# Split string with new line delimiter\n",
    "\n",
    "str1=\"123rrrrhytifkwfkhfhkf\\nabc dfg 1234\\nqww\"\n",
    "res_str=str1.rstrip().split(' ')\n",
    "res_str"
   ]
  },
  {
   "cell_type": "code",
   "execution_count": 425,
   "id": "2c4ad8b2",
   "metadata": {},
   "outputs": [
    {
     "data": {
      "text/plain": [
       "'buhilojfpke'"
      ]
     },
     "execution_count": 425,
     "metadata": {},
     "output_type": "execute_result"
    }
   ],
   "source": [
    "# return reoccuring character in string into new string\n",
    "\n",
    "str1=\"abcbeefffffhhjjkkllooppuuuuiiiiooooxfre\"\n",
    "\n",
    "s=set(i for i in str1 if str1.count(i)>1)\n",
    "li=list(s)\n",
    "new_str =\"\".join(li)\n",
    "new_str"
   ]
  },
  {
   "cell_type": "code",
   "execution_count": 429,
   "id": "a10a2c9c",
   "metadata": {},
   "outputs": [
    {
     "data": {
      "text/plain": [
       "'dca'"
      ]
     },
     "execution_count": 429,
     "metadata": {},
     "output_type": "execute_result"
    }
   ],
   "source": [
    "# delete reoccuring character from string and return new string\n",
    "\n",
    "str1=\"abbcd\"\n",
    "\n",
    "s=set(i for i in str1 if str1.count(i)==1)\n",
    "li=list(s)\n",
    "new_str =\"\".join(li)\n",
    "new_str"
   ]
  }
 ],
 "metadata": {
  "kernelspec": {
   "display_name": "Python 3",
   "language": "python",
   "name": "python3"
  },
  "language_info": {
   "codemirror_mode": {
    "name": "ipython",
    "version": 3
   },
   "file_extension": ".py",
   "mimetype": "text/x-python",
   "name": "python",
   "nbconvert_exporter": "python",
   "pygments_lexer": "ipython3",
   "version": "3.8.5"
  }
 },
 "nbformat": 4,
 "nbformat_minor": 5
}
